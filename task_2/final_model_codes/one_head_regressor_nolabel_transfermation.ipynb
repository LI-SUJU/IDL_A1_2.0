{
 "cells": [
  {
   "cell_type": "code",
   "execution_count": null,
   "id": "54e8bfe1",
   "metadata": {},
   "outputs": [],
   "source": [
    "import os\n",
    "import numpy as np\n",
    "import tensorflow as tf\n",
    "from tensorflow.keras import layers, Input, Model\n",
    "from tensorflow.keras.layers import Dense, Dropout, Flatten\n",
    "from tensorflow.keras.initializers import HeNormal, Zeros\n",
    "from sklearn.model_selection import train_test_split\n",
    "import matplotlib.pyplot as plt\n",
    "from tensorflow.keras.callbacks import EarlyStopping, ModelCheckpoint"
   ]
  },
  {
   "cell_type": "code",
   "execution_count": null,
   "id": "ce4bc82d",
   "metadata": {},
   "outputs": [],
   "source": [
    "# Hyperparameters\n",
    "batch_size = 128\n",
    "epochs = 500\n",
    "learning_rate = 0.0001"
   ]
  },
  {
   "cell_type": "code",
   "execution_count": null,
   "id": "0e7aa95e",
   "metadata": {},
   "outputs": [],
   "source": [
    "# Initializers\n",
    "kernel_init = HeNormal()\n",
    "bias_init = Zeros()"
   ]
  },
  {
   "cell_type": "code",
   "execution_count": null,
   "id": "0fa695bc",
   "metadata": {},
   "outputs": [],
   "source": [
    "# Load data\n",
    "images = np.load('../../task_2/data/data_big/images.npy')\n",
    "labels = np.load('../../task_2/data/data_big/labels.npy')"
   ]
  },
  {
   "cell_type": "code",
   "execution_count": null,
   "id": "142b4bec",
   "metadata": {},
   "outputs": [],
   "source": [
    "# Normalize image data\n",
    "images = images / 255.0"
   ]
  },
  {
   "cell_type": "code",
   "execution_count": null,
   "id": "ce810867",
   "metadata": {
    "lines_to_next_cell": 1
   },
   "outputs": [],
   "source": [
    "# Image shape\n",
    "if len(images.shape) == 3:\n",
    "    images = np.expand_dims(images, axis=-1)"
   ]
  },
  {
   "cell_type": "code",
   "execution_count": null,
   "id": "b2090a2a",
   "metadata": {
    "lines_to_next_cell": 1
   },
   "outputs": [],
   "source": [
    "# Convert labels to decimal form\n",
    "def convert_labels_to_decimal(labels):\n",
    "    hours = labels[:, 0]\n",
    "    minutes = labels[:, 1]\n",
    "    decimal_time = hours + minutes / 60.0\n",
    "    return decimal_time"
   ]
  },
  {
   "cell_type": "code",
   "execution_count": null,
   "id": "b52ad67d",
   "metadata": {},
   "outputs": [],
   "source": [
    "decimal_labels = convert_labels_to_decimal(labels)"
   ]
  },
  {
   "cell_type": "code",
   "execution_count": null,
   "id": "e8775811",
   "metadata": {
    "lines_to_next_cell": 1
   },
   "outputs": [],
   "source": [
    "# Dataset split\n",
    "X_train, X_temp, y_train, y_temp = train_test_split(images, decimal_labels, test_size=0.2, random_state=42)\n",
    "X_val, X_test, y_val, y_test = train_test_split(X_temp, y_temp, test_size=0.5, random_state=42)"
   ]
  },
  {
   "cell_type": "code",
   "execution_count": null,
   "id": "abe27d10",
   "metadata": {
    "lines_to_next_cell": 1
   },
   "outputs": [],
   "source": [
    "# Custom model\n",
    "def build_custom_model(input_shape):\n",
    "    inputs = Input(shape=input_shape)\n",
    "    x = layers.Conv2D(32, (3, 3), activation='relu')(inputs)\n",
    "    x = layers.MaxPooling2D((2, 2))(x)\n",
    "    x = layers.Conv2D(32, (3, 3), activation='relu')(x)\n",
    "    x = layers.MaxPooling2D((2, 2))(x)\n",
    "    x = layers.Conv2D(64, (3, 3), activation='relu')(x)\n",
    "    x = layers.MaxPooling2D((2, 2))(x)\n",
    "    x = Flatten()(x)\n",
    "    x = Dense(128, activation='relu')(x)\n",
    "    x = Dropout(0.1)(x)\n",
    "    outputs = Dense(1, activation='linear')(x)  # Output 1 continuous value\n",
    "    model = Model(inputs=inputs, outputs=outputs)\n",
    "    return model"
   ]
  },
  {
   "cell_type": "code",
   "execution_count": null,
   "id": "c37cc589",
   "metadata": {
    "lines_to_next_cell": 1
   },
   "outputs": [],
   "source": [
    "input_shape = images[0].shape\n",
    "model = build_custom_model(input_shape=input_shape)"
   ]
  },
  {
   "cell_type": "code",
   "execution_count": null,
   "id": "8ac69259",
   "metadata": {
    "lines_to_next_cell": 1
   },
   "outputs": [],
   "source": [
    "# Custom loss function, considering cyclic differences\n",
    "def time_difference(y_true, y_pred):\n",
    "    diff = tf.abs(y_true - y_pred)\n",
    "    return tf.minimum(diff, 12 - diff)  # Assuming time is cyclic within a 12-hour format"
   ]
  },
  {
   "cell_type": "code",
   "execution_count": null,
   "id": "39926e8f",
   "metadata": {
    "lines_to_next_cell": 1
   },
   "outputs": [],
   "source": [
    "def custom_loss(y_true, y_pred):\n",
    "    diff = time_difference(y_true, y_pred)\n",
    "    return tf.reduce_mean(tf.square(diff))"
   ]
  },
  {
   "cell_type": "code",
   "execution_count": null,
   "id": "e5050b05",
   "metadata": {
    "lines_to_next_cell": 1
   },
   "outputs": [],
   "source": [
    "# Custom MAE metric, considering cyclic differences\n",
    "def custom_mae(y_true, y_pred):\n",
    "    diff = time_difference(y_true, y_pred)\n",
    "    return tf.reduce_mean(diff)"
   ]
  },
  {
   "cell_type": "code",
   "execution_count": null,
   "id": "296ed336",
   "metadata": {},
   "outputs": [],
   "source": [
    "# Compile model\n",
    "model.compile(\n",
    "    optimizer=tf.keras.optimizers.Adam(learning_rate=learning_rate),\n",
    "    loss=custom_loss,\n",
    "    metrics=[custom_mae]  # Use custom MAE as the metric\n",
    ")"
   ]
  },
  {
   "cell_type": "code",
   "execution_count": null,
   "id": "62933d0d",
   "metadata": {
    "lines_to_next_cell": 1
   },
   "outputs": [],
   "source": [
    "# Print model structure\n",
    "model.summary()"
   ]
  },
  {
   "cell_type": "code",
   "execution_count": null,
   "id": "41faa591",
   "metadata": {
    "lines_to_next_cell": 1
   },
   "outputs": [],
   "source": [
    "# Define data augmentation function\n",
    "def augment(images, labels):\n",
    "    images = tf.image.random_brightness(images, 0.2)\n",
    "    images = tf.image.random_contrast(images, 1, 2.0)\n",
    "    images = tf.image.rot90(images, tf.random.uniform(shape=[], minval=0, maxval=4, dtype=tf.int32))\n",
    "    return images, labels"
   ]
  },
  {
   "cell_type": "code",
   "execution_count": null,
   "id": "52b6783c",
   "metadata": {},
   "outputs": [],
   "source": [
    "# Build tf.data.Dataset dataset and apply data augmentation\n",
    "train_dataset = tf.data.Dataset.from_tensor_slices((X_train, y_train))\n",
    "train_dataset = train_dataset.shuffle(buffer_size=1024).map(augment).batch(batch_size).prefetch(tf.data.experimental.AUTOTUNE)"
   ]
  },
  {
   "cell_type": "code",
   "execution_count": null,
   "id": "09ecb7ed",
   "metadata": {},
   "outputs": [],
   "source": [
    "val_dataset = tf.data.Dataset.from_tensor_slices((X_val, y_val))\n",
    "val_dataset = val_dataset.batch(batch_size).prefetch(tf.data.experimental.AUTOTUNE)"
   ]
  },
  {
   "cell_type": "code",
   "execution_count": null,
   "id": "4a05c284",
   "metadata": {},
   "outputs": [],
   "source": [
    "# Define callback functions\n",
    "early_stopping = EarlyStopping(monitor='val_loss', patience=20, restore_best_weights=True, mode='min')\n",
    "checkpoint = ModelCheckpoint('best_Regression_model.keras', save_best_only=True, monitor='val_loss', mode='min')"
   ]
  },
  {
   "cell_type": "code",
   "execution_count": null,
   "id": "1c4ab997",
   "metadata": {},
   "outputs": [],
   "source": [
    "# Train the model\n",
    "history = model.fit(train_dataset, epochs=epochs, validation_data=val_dataset, callbacks=[early_stopping, checkpoint])"
   ]
  },
  {
   "cell_type": "code",
   "execution_count": null,
   "id": "4772fa88",
   "metadata": {},
   "outputs": [],
   "source": [
    "# Set path to save weights\n",
    "weights_path = os.path.join(os.getcwd(), 'Regression.weights.h5')\n",
    "# Save model weights\n",
    "model.save_weights(weights_path)"
   ]
  },
  {
   "cell_type": "code",
   "execution_count": null,
   "id": "4f8d815d",
   "metadata": {},
   "outputs": [],
   "source": [
    "# Evaluate the model on the test set\n",
    "test_loss, test_mae = model.evaluate(X_test, y_test, verbose=2)\n",
    "print(f\"Test Loss: {test_loss}\")\n",
    "print(f\"Test MAE: {test_mae}\")"
   ]
  },
  {
   "cell_type": "code",
   "execution_count": null,
   "id": "75ea9fdc",
   "metadata": {
    "lines_to_next_cell": 1
   },
   "outputs": [],
   "source": [
    "# Prediction example\n",
    "sample_test_image = X_test[0:1]\n",
    "predicted_output = model.predict(sample_test_image)"
   ]
  },
  {
   "cell_type": "code",
   "execution_count": null,
   "id": "6314223c",
   "metadata": {
    "lines_to_next_cell": 1
   },
   "outputs": [],
   "source": [
    "# Convert predicted values back to hours and minutes\n",
    "def convert_prediction_to_time(pred):\n",
    "    pred_time = pred[0] % 12  # Ensure within 0 to 12\n",
    "    if pred_time < 0:\n",
    "        pred_time += 12  # Ensure positive time\n",
    "    pred_hour = int(pred_time)\n",
    "    pred_minute = int(round((pred_time - pred_hour) * 60)) % 60\n",
    "    return pred_hour % 12, pred_minute"
   ]
  },
  {
   "cell_type": "code",
   "execution_count": null,
   "id": "c1cf8022",
   "metadata": {},
   "outputs": [],
   "source": [
    "predicted_hour, predicted_minute = convert_prediction_to_time(predicted_output[0])\n",
    "print(f'Predicted Time: {predicted_hour:02}:{predicted_minute:02}')"
   ]
  },
  {
   "cell_type": "code",
   "execution_count": null,
   "id": "6ec1265b",
   "metadata": {},
   "outputs": [],
   "source": [
    "# Display original image and prediction result\n",
    "plt.figure(figsize=(4, 4))\n",
    "plt.imshow(sample_test_image.squeeze(), cmap='gray')\n",
    "plt.title(f'Predicted Time: {predicted_hour:02}:{predicted_minute:02}')\n",
    "plt.axis('off')\n",
    "plt.show()"
   ]
  },
  {
   "cell_type": "code",
   "execution_count": null,
   "id": "11ebf13f",
   "metadata": {},
   "outputs": [],
   "source": [
    "# **Plot training curves**\n",
    "# Plot training and validation loss curves\n",
    "plt.figure(figsize=(12, 4))\n",
    "plt.subplot(1, 2, 1)\n",
    "plt.plot(history.history['loss'], label='Training Loss')\n",
    "plt.plot(history.history['val_loss'], label='Validation Loss')\n",
    "plt.title('Loss Curve')\n",
    "plt.xlabel('Epochs')\n",
    "plt.ylabel('Loss')\n",
    "plt.legend()"
   ]
  },
  {
   "cell_type": "code",
   "execution_count": null,
   "id": "ddc6092c",
   "metadata": {},
   "outputs": [],
   "source": [
    "# Plot training and validation custom MAE curves\n",
    "plt.subplot(1, 2, 2)\n",
    "plt.plot(history.history['custom_mae'], label='Training MAE')\n",
    "plt.plot(history.history['val_custom_mae'], label='Validation MAE')\n",
    "plt.title('Custom MAE Curve')\n",
    "plt.xlabel('Epochs')\n",
    "plt.ylabel('MAE')\n",
    "plt.legend()"
   ]
  },
  {
   "cell_type": "code",
   "execution_count": null,
   "id": "3f96b8b2",
   "metadata": {},
   "outputs": [],
   "source": [
    "plt.show()"
   ]
  }
 ],
 "metadata": {
  "jupytext": {
   "cell_metadata_filter": "-all",
   "main_language": "python",
   "notebook_metadata_filter": "-all"
  },
  "language_info": {
   "name": "python"
  }
 },
 "nbformat": 4,
 "nbformat_minor": 5
}
