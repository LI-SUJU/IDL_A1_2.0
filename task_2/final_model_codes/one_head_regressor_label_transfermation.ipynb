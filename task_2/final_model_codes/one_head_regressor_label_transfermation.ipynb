{
 "cells": [
  {
   "cell_type": "code",
   "execution_count": null,
   "id": "9c92abce",
   "metadata": {},
   "outputs": [],
   "source": [
    "import os\n",
    "import numpy as np\n",
    "import tensorflow as tf\n",
    "from tensorflow.keras import layers, Input, Model\n",
    "from tensorflow.keras.layers import Dense, Dropout, Flatten\n",
    "from tensorflow.keras.initializers import HeNormal, Zeros\n",
    "from sklearn.model_selection import train_test_split\n",
    "import matplotlib.pyplot as plt\n",
    "from tensorflow.keras.callbacks import EarlyStopping, ModelCheckpoint"
   ]
  },
  {
   "cell_type": "code",
   "execution_count": null,
   "id": "d40a5755",
   "metadata": {},
   "outputs": [],
   "source": [
    "# Hyperparameters\n",
    "batch_size = 128\n",
    "epochs = 500\n",
    "learning_rate = 0.0001"
   ]
  },
  {
   "cell_type": "code",
   "execution_count": null,
   "id": "47bf1894",
   "metadata": {},
   "outputs": [],
   "source": [
    "# Initializers\n",
    "kernel_init = HeNormal()\n",
    "bias_init = Zeros()"
   ]
  },
  {
   "cell_type": "code",
   "execution_count": null,
   "id": "f4156a54",
   "metadata": {},
   "outputs": [],
   "source": [
    "# Load data\n",
    "images = np.load('./task_2/data/data_big/images.npy')\n",
    "labels = np.load('./task_2/data/data_big/labels.npy')"
   ]
  },
  {
   "cell_type": "code",
   "execution_count": null,
   "id": "8f9e7117",
   "metadata": {},
   "outputs": [],
   "source": [
    "# Normalize image data\n",
    "images = images / 255.0"
   ]
  },
  {
   "cell_type": "code",
   "execution_count": null,
   "id": "cf6e07cd",
   "metadata": {
    "lines_to_next_cell": 1
   },
   "outputs": [],
   "source": [
    "# Image shape\n",
    "if len(images.shape) == 3:\n",
    "    images = np.expand_dims(images, axis=-1)"
   ]
  },
  {
   "cell_type": "code",
   "execution_count": null,
   "id": "e7514115",
   "metadata": {
    "lines_to_next_cell": 1
   },
   "outputs": [],
   "source": [
    "# Convert labels to circular form\n",
    "def convert_labels_to_circular(labels):\n",
    "    hours = labels[:, 0] * (2 * np.pi / 12)  # Map hour labels to [0, 2pi]\n",
    "    minutes = labels[:, 1] * (2 * np.pi / 60)  # Map minute labels to [0, 2pi]\n",
    "    return np.stack([np.cos(hours), np.sin(hours), np.cos(minutes), np.sin(minutes)], axis=-1)"
   ]
  },
  {
   "cell_type": "code",
   "execution_count": null,
   "id": "e9169960",
   "metadata": {},
   "outputs": [],
   "source": [
    "circular_labels = convert_labels_to_circular(labels)"
   ]
  },
  {
   "cell_type": "code",
   "execution_count": null,
   "id": "217604bd",
   "metadata": {
    "lines_to_next_cell": 1
   },
   "outputs": [],
   "source": [
    "# Dataset split\n",
    "X_train, X_temp, y_train, y_temp = train_test_split(images, circular_labels, test_size=0.2, random_state=42)\n",
    "X_val, X_test, y_val, y_test = train_test_split(X_temp, y_temp, test_size=0.5, random_state=42)"
   ]
  },
  {
   "cell_type": "code",
   "execution_count": null,
   "id": "2d6d372c",
   "metadata": {
    "lines_to_next_cell": 1
   },
   "outputs": [],
   "source": [
    "# Custom model\n",
    "def build_custom_model(input_shape):\n",
    "    inputs = Input(shape=input_shape)\n",
    "    x = layers.Conv2D(32, (3, 3), activation='relu')(inputs)\n",
    "    x = layers.MaxPooling2D((2, 2))(x)\n",
    "    x = layers.Conv2D(32, (3, 3), activation='relu')(x)\n",
    "    x = layers.MaxPooling2D((2, 2))(x)\n",
    "    x = layers.Conv2D(64, (3, 3), activation='relu')(x)\n",
    "    x = layers.MaxPooling2D((2, 2))(x)\n",
    "    x = Flatten()(x)\n",
    "    x = Dense(128, activation='relu')(x)\n",
    "    x = Dropout(0.1)(x)\n",
    "    outputs = Dense(4, activation='linear')(x)  # Output 4 continuous values\n",
    "    model = Model(inputs=inputs, outputs=outputs)\n",
    "    return model"
   ]
  },
  {
   "cell_type": "code",
   "execution_count": null,
   "id": "352e41d4",
   "metadata": {
    "lines_to_next_cell": 1
   },
   "outputs": [],
   "source": [
    "input_shape = images[0].shape\n",
    "model = build_custom_model(input_shape=input_shape)"
   ]
  },
  {
   "cell_type": "code",
   "execution_count": null,
   "id": "32af14ef",
   "metadata": {
    "lines_to_next_cell": 1
   },
   "outputs": [],
   "source": [
    "# Custom loss function, calculating Euclidean distance\n",
    "def circular_loss(y_true, y_pred):\n",
    "    hour_cos_sin_true = y_true[:, :2]\n",
    "    minute_cos_sin_true = y_true[:, 2:]\n",
    "    hour_cos_sin_pred = y_pred[:, :2]\n",
    "    minute_cos_sin_pred = y_pred[:, 2:]\n",
    "\n",
    "    hour_loss = tf.reduce_mean(tf.square(hour_cos_sin_true - hour_cos_sin_pred))\n",
    "    minute_loss = tf.reduce_mean(tf.square(minute_cos_sin_true - minute_cos_sin_pred))\n",
    "    return hour_loss + minute_loss"
   ]
  },
  {
   "cell_type": "code",
   "execution_count": null,
   "id": "13c03be2",
   "metadata": {},
   "outputs": [],
   "source": [
    "# Compile the model, adding metrics=['mae']\n",
    "model.compile(\n",
    "    optimizer=tf.keras.optimizers.Adam(learning_rate=learning_rate),\n",
    "    loss=circular_loss,\n",
    "    metrics=['mae']  # Add MAE as an evaluation metric\n",
    ")"
   ]
  },
  {
   "cell_type": "code",
   "execution_count": null,
   "id": "631595b4",
   "metadata": {
    "lines_to_next_cell": 1
   },
   "outputs": [],
   "source": [
    "# Print model structure\n",
    "model.summary()"
   ]
  },
  {
   "cell_type": "code",
   "execution_count": null,
   "id": "bb6a3263",
   "metadata": {
    "lines_to_next_cell": 1
   },
   "outputs": [],
   "source": [
    "# Define data augmentation function\n",
    "def augment(images, labels):\n",
    "    images = tf.image.random_brightness(images, 0.2)\n",
    "    images = tf.image.random_contrast(images, 1, 2.0)\n",
    "    images = tf.image.rot90(images, tf.random.uniform(shape=[], minval=0, maxval=4, dtype=tf.int32))\n",
    "    return images, labels"
   ]
  },
  {
   "cell_type": "code",
   "execution_count": null,
   "id": "18ce74ca",
   "metadata": {},
   "outputs": [],
   "source": [
    "# Build tf.data.Dataset dataset and apply data augmentation\n",
    "train_dataset = tf.data.Dataset.from_tensor_slices((X_train, y_train))\n",
    "train_dataset = train_dataset.shuffle(buffer_size=1024).map(augment).batch(batch_size).prefetch(tf.data.experimental.AUTOTUNE)"
   ]
  },
  {
   "cell_type": "code",
   "execution_count": null,
   "id": "6ee17919",
   "metadata": {},
   "outputs": [],
   "source": [
    "val_dataset = tf.data.Dataset.from_tensor_slices((X_val, y_val))\n",
    "val_dataset = val_dataset.batch(batch_size).prefetch(tf.data.experimental.AUTOTUNE)"
   ]
  },
  {
   "cell_type": "code",
   "execution_count": null,
   "id": "1f0bee5d",
   "metadata": {},
   "outputs": [],
   "source": [
    "# Define callback functions\n",
    "early_stopping = EarlyStopping(monitor='val_loss', patience=20, restore_best_weights=True, mode='min')\n",
    "checkpoint = ModelCheckpoint('best_Regression_model.keras', save_best_only=True, monitor='val_loss', mode='min')"
   ]
  },
  {
   "cell_type": "code",
   "execution_count": null,
   "id": "2d5b0c23",
   "metadata": {},
   "outputs": [],
   "source": [
    "# Train the model\n",
    "history = model.fit(train_dataset, epochs=epochs, validation_data=val_dataset, callbacks=[early_stopping, checkpoint])"
   ]
  },
  {
   "cell_type": "code",
   "execution_count": null,
   "id": "ad381a74",
   "metadata": {},
   "outputs": [],
   "source": [
    "# Set path to save weights\n",
    "weights_path = os.path.join(os.getcwd(), 'Regression.weights.h5')\n",
    "# Save model weights\n",
    "model.save_weights(weights_path)"
   ]
  },
  {
   "cell_type": "code",
   "execution_count": null,
   "id": "4399fc53",
   "metadata": {},
   "outputs": [],
   "source": [
    "# Evaluate the model on the test set\n",
    "test_loss, test_mae = model.evaluate(X_test, y_test, verbose=2)\n",
    "print(f\"Test Loss: {test_loss}\")\n",
    "print(f\"Test MAE: {test_mae}\")"
   ]
  },
  {
   "cell_type": "code",
   "execution_count": null,
   "id": "1e2fc4f4",
   "metadata": {
    "lines_to_next_cell": 1
   },
   "outputs": [],
   "source": [
    "# Prediction example\n",
    "sample_test_image = X_test[0:1]\n",
    "predicted_output = model.predict(sample_test_image)"
   ]
  },
  {
   "cell_type": "code",
   "execution_count": null,
   "id": "b5310eea",
   "metadata": {
    "lines_to_next_cell": 1
   },
   "outputs": [],
   "source": [
    "# Convert predicted values back to hours and minutes\n",
    "def convert_prediction_to_time(pred):\n",
    "    pred_hour_angle = np.arctan2(pred[1], pred[0])\n",
    "    pred_minute_angle = np.arctan2(pred[3], pred[2])\n",
    "\n",
    "    # Process cyclic angles\n",
    "    pred_hour = (pred_hour_angle * 12 / (2 * np.pi)) % 12\n",
    "    pred_minute = (pred_minute_angle * 60 / (2 * np.pi)) % 60\n",
    "\n",
    "    return int(pred_hour), int(pred_minute)"
   ]
  },
  {
   "cell_type": "code",
   "execution_count": null,
   "id": "caf89f1a",
   "metadata": {},
   "outputs": [],
   "source": [
    "predicted_hour, predicted_minute = convert_prediction_to_time(predicted_output[0])\n",
    "print(f'Predicted Time: {predicted_hour:02}:{predicted_minute:02}')"
   ]
  },
  {
   "cell_type": "code",
   "execution_count": null,
   "id": "bc3f6cca",
   "metadata": {},
   "outputs": [],
   "source": [
    "# Display original image and prediction result\n",
    "plt.figure(figsize=(4, 4))\n",
    "plt.imshow(sample_test_image.squeeze(), cmap='gray')\n",
    "plt.title(f'Predicted Time: {predicted_hour:02}:{predicted_minute:02}')\n",
    "plt.axis('off')\n",
    "plt.show()"
   ]
  },
  {
   "cell_type": "code",
   "execution_count": null,
   "id": "86a23d13",
   "metadata": {},
   "outputs": [],
   "source": [
    "# **Plot training curves**\n",
    "# Plot training and validation loss curves\n",
    "plt.figure(figsize=(12, 4))\n",
    "plt.subplot(1, 2, 1)\n",
    "plt.plot(history.history['loss'], label='Training Loss')\n",
    "plt.plot(history.history['val_loss'], label='Validation Loss')\n",
    "plt.title('Loss Curve')\n",
    "plt.xlabel('Epochs')\n",
    "plt.ylabel('Loss')\n",
    "plt.legend()"
   ]
  },
  {
   "cell_type": "code",
   "execution_count": null,
   "id": "d9d77fe5",
   "metadata": {},
   "outputs": [],
   "source": [
    "# Plot training and validation mean absolute error curves\n",
    "plt.subplot(1, 2, 2)\n",
    "plt.plot(history.history['mae'], label='Training MAE')\n",
    "plt.plot(history.history['val_mae'], label='Validation MAE')\n",
    "plt.title('MAE Curve')\n",
    "plt.xlabel('Epochs')\n",
    "plt.ylabel('MAE')\n",
    "plt.legend()"
   ]
  },
  {
   "cell_type": "code",
   "execution_count": null,
   "id": "91e3c6a4",
   "metadata": {},
   "outputs": [],
   "source": [
    "plt.show()"
   ]
  }
 ],
 "metadata": {
  "jupytext": {
   "cell_metadata_filter": "-all",
   "main_language": "python",
   "notebook_metadata_filter": "-all"
  }
 },
 "nbformat": 4,
 "nbformat_minor": 5
}
