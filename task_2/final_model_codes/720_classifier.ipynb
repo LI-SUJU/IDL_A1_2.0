{
 "cells": [
  {
   "cell_type": "code",
   "execution_count": null,
   "id": "a8f938e5",
   "metadata": {},
   "outputs": [],
   "source": [
    "import numpy as np\n",
    "from sklearn.model_selection import train_test_split\n",
    "import tensorflow as tf\n",
    "from tensorflow.keras.models import Sequential\n",
    "from tensorflow.keras.layers import Conv2D, MaxPooling2D, Flatten, Dense, Dropout\n",
    "from tensorflow.keras.utils import to_categorical\n",
    "import matplotlib.pyplot as plt"
   ]
  },
  {
   "cell_type": "code",
   "execution_count": null,
   "id": "dab55132",
   "metadata": {
    "lines_to_next_cell": 1
   },
   "outputs": [],
   "source": [
    "# Load data\n",
    "images = np.load('../../task_2/data/data_big/images.npy')\n",
    "labels = np.load('../../task_2/data/data_big/labels.npy')"
   ]
  },
  {
   "cell_type": "code",
   "execution_count": null,
   "id": "37fa6082",
   "metadata": {
    "lines_to_next_cell": 1
   },
   "outputs": [],
   "source": [
    "# Preprocess labels to 720 categories\n",
    "def label_to_category(label):\n",
    "    hour, minute = label\n",
    "    return hour * 60 + minute"
   ]
  },
  {
   "cell_type": "code",
   "execution_count": null,
   "id": "877d1261",
   "metadata": {},
   "outputs": [],
   "source": [
    "categories = np.array([label_to_category(label) for label in labels])\n",
    "categories = to_categorical(categories, num_classes=720)"
   ]
  },
  {
   "cell_type": "code",
   "execution_count": null,
   "id": "3461dd1a",
   "metadata": {},
   "outputs": [],
   "source": [
    "# Split data into train, validation, and test sets\n",
    "X_train, X_temp, y_train, y_temp = train_test_split(images, categories, test_size=0.2, random_state=42)\n",
    "X_val, X_test, y_val, y_test = train_test_split(X_temp, y_temp, test_size=0.5, random_state=42)"
   ]
  },
  {
   "cell_type": "code",
   "execution_count": null,
   "id": "2cfb3c33",
   "metadata": {},
   "outputs": [],
   "source": [
    "# Normalize images\n",
    "X_train, X_val, X_test = X_train / 255.0, X_val / 255.0, X_test / 255.0"
   ]
  },
  {
   "cell_type": "code",
   "execution_count": null,
   "id": "a48c7731",
   "metadata": {
    "lines_to_next_cell": 1
   },
   "outputs": [],
   "source": [
    "# Reshape images to have a single channel\n",
    "X_train = X_train.reshape(X_train.shape[0], X_train.shape[1], X_train.shape[2], 1)\n",
    "X_val = X_val.reshape(X_val.shape[0], X_val.shape[1], X_val.shape[2], 1)\n",
    "X_test = X_test.reshape(X_test.shape[0], X_test.shape[1], X_test.shape[2], 1)"
   ]
  },
  {
   "cell_type": "code",
   "execution_count": null,
   "id": "3806ac3e",
   "metadata": {
    "lines_to_next_cell": 1
   },
   "outputs": [],
   "source": [
    "# Custom metric to check if prediction is within 10 minutes\n",
    "def within_10_minutes_accuracy(y_true, y_pred):\n",
    "    y_true = tf.argmax(y_true, axis=-1)\n",
    "    y_pred = tf.argmax(y_pred, axis=-1)\n",
    "    \n",
    "    # Convert labels to hours and minutes\n",
    "    true_hours = y_true // 60\n",
    "    true_minutes = y_true % 60\n",
    "    pred_hours = y_pred // 60\n",
    "    pred_minutes = y_pred % 60\n",
    "    \n",
    "    # Calculate time difference in minutes\n",
    "    hour_diff = tf.abs(true_hours - pred_hours) * 60\n",
    "    minute_diff = tf.abs(true_minutes - pred_minutes)\n",
    "    time_diff = hour_diff + minute_diff\n",
    "    \n",
    "    # Adjust for circular behavior (e.g., 11:50 and 12:00 are within 10 minutes)\n",
    "    time_diff = tf.minimum(time_diff, 720 - time_diff)\n",
    "    \n",
    "    # Count as correct if time difference is within 10 minutes\n",
    "    correct_predictions = tf.reduce_sum(tf.cast(time_diff <= 10, tf.float32))\n",
    "    accuracy = correct_predictions / tf.cast(tf.size(y_true), tf.float32)\n",
    "    \n",
    "    return accuracy"
   ]
  },
  {
   "cell_type": "code",
   "execution_count": null,
   "id": "85280a1c",
   "metadata": {},
   "outputs": [],
   "source": [
    "# Build the CNN model\n",
    "model = Sequential([\n",
    "    Conv2D(32, (3, 3), activation='relu', input_shape=(X_train.shape[1], X_train.shape[2], 1)),\n",
    "    MaxPooling2D((2, 2)),\n",
    "    Conv2D(64, (3, 3), activation='relu'),\n",
    "    MaxPooling2D((2, 2)),\n",
    "    Conv2D(128, (3, 3), activation='relu'),\n",
    "    MaxPooling2D((2, 2)),\n",
    "    Flatten(),\n",
    "    Dense(128, activation='relu'),\n",
    "    Dropout(0.5),\n",
    "    Dense(720, activation='softmax')\n",
    "])"
   ]
  },
  {
   "cell_type": "code",
   "execution_count": null,
   "id": "0f596796",
   "metadata": {},
   "outputs": [],
   "source": [
    "# Compile the model\n",
    "model.compile(optimizer='adam', loss='categorical_crossentropy', metrics=[within_10_minutes_accuracy])"
   ]
  },
  {
   "cell_type": "code",
   "execution_count": null,
   "id": "575f8fde",
   "metadata": {},
   "outputs": [],
   "source": [
    "# Train the model\n",
    "history = model.fit(X_train, y_train, epochs=100, validation_data=(X_val, y_val))"
   ]
  },
  {
   "cell_type": "code",
   "execution_count": null,
   "id": "7fdab10c",
   "metadata": {},
   "outputs": [],
   "source": [
    "# Evaluate on test set\n",
    "test_loss, test_accuracy = model.evaluate(X_test, y_test)\n",
    "print(f\"Test Accuracy (within 10 min): {test_accuracy:.4f}\")"
   ]
  },
  {
   "cell_type": "code",
   "execution_count": null,
   "id": "748ff177",
   "metadata": {},
   "outputs": [],
   "source": [
    "# Save the model\n",
    "model.save('./one_head_720_time_classifier.h5')"
   ]
  },
  {
   "cell_type": "code",
   "execution_count": null,
   "id": "08fc5028",
   "metadata": {},
   "outputs": [],
   "source": [
    "# Plot training and validation accuracy\n",
    "# plt.figure(figsize=(12, 5))\n",
    "plt.title('Model Accuracy (Within 10 Minutes)')\n",
    "plt.plot(history.history['within_10_minutes_accuracy'], label='Train Accuracy')\n",
    "plt.plot(history.history['val_within_10_minutes_accuracy'], label='Validation Accuracy')\n",
    "plt.xlabel('Epoch')\n",
    "plt.ylabel('Accuracy')\n",
    "plt.legend(loc='lower right')\n",
    "# plt.show()\n",
    "plt.savefig('one_head_720_time_classifier.png')"
   ]
  }
 ],
 "metadata": {
  "jupytext": {
   "cell_metadata_filter": "-all",
   "main_language": "python",
   "notebook_metadata_filter": "-all"
  },
  "kernelspec": {
   "display_name": "Python 3",
   "language": "python",
   "name": "python3"
  },
  "language_info": {
   "name": "python",
   "version": "3.10.0"
  }
 },
 "nbformat": 4,
 "nbformat_minor": 5
}
